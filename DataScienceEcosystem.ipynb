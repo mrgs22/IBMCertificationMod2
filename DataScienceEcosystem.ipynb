{
 "cells": [
  {
   "cell_type": "markdown",
   "id": "99df34a5",
   "metadata": {},
   "source": [
    "# Data Science Tools and Ecosystem\n"
   ]
  },
  {
   "cell_type": "markdown",
   "id": "cb287a3a",
   "metadata": {},
   "source": [
    "This notebook we will explore data science tools and ecosystems."
   ]
  },
  {
   "cell_type": "markdown",
   "id": "2d06aa59",
   "metadata": {},
   "source": [
    "## author\n",
    "Greg"
   ]
  },
  {
   "cell_type": "markdown",
   "id": "048d482f",
   "metadata": {},
   "source": [
    "**Objectives**\n",
    "- list popular langauges\n",
    "- list popular libs\n",
    "- convert 200 mins to hours\n",
    "- create a table in markdown"
   ]
  },
  {
   "cell_type": "markdown",
   "id": "55be6389",
   "metadata": {},
   "source": [
    "some of the popular languages for data sceintist to use are:\n",
    "\n",
    "1. Python\n",
    "2. R\n",
    "3. Java\n",
    "4. C++\n",
    "5. Julia\n",
    "6. SQL\n",
    "7. Scala\n",
    "8. JavaScript"
   ]
  },
  {
   "cell_type": "markdown",
   "id": "557d2d96",
   "metadata": {},
   "source": [
    "Some commonly used libraries in data science are:\n",
    "\n",
    "1. Numpy\n",
    "2. NLTK\n",
    "3. Pandas"
   ]
  },
  {
   "cell_type": "markdown",
   "id": "0726ca05",
   "metadata": {},
   "source": [
    "| Data Science Tools |\n",
    "|--:|\n",
    "| Jupyter notebooks |\n",
    "| google colab |\n",
    "| Rstudio |"
   ]
  },
  {
   "cell_type": "markdown",
   "id": "e85ccd70",
   "metadata": {},
   "source": [
    "### Examples of arithmetic expressions in python"
   ]
  },
  {
   "cell_type": "code",
   "execution_count": 1,
   "id": "1a7287c6",
   "metadata": {},
   "outputs": [
    {
     "data": {
      "text/plain": [
       "17"
      ]
     },
     "execution_count": 1,
     "metadata": {},
     "output_type": "execute_result"
    }
   ],
   "source": [
    "#this is an example of some simple arithmetic expressions in python\n",
    "(3*4)+5"
   ]
  },
  {
   "cell_type": "code",
   "execution_count": 2,
   "id": "de2867d1",
   "metadata": {},
   "outputs": [
    {
     "data": {
      "text/plain": [
       "3.3333333333333335"
      ]
     },
     "execution_count": 2,
     "metadata": {},
     "output_type": "execute_result"
    }
   ],
   "source": [
    "#this is an example of turing 200 mins to hours\n",
    "200/60"
   ]
  },
  {
   "cell_type": "markdown",
   "id": "42c3c46d",
   "metadata": {},
   "source": []
  }
 ],
 "metadata": {
  "kernelspec": {
   "display_name": "Python 3 (ipykernel)",
   "language": "python",
   "name": "python3"
  },
  "language_info": {
   "codemirror_mode": {
    "name": "ipython",
    "version": 3
   },
   "file_extension": ".py",
   "mimetype": "text/x-python",
   "name": "python",
   "nbconvert_exporter": "python",
   "pygments_lexer": "ipython3",
   "version": "3.11.7"
  }
 },
 "nbformat": 4,
 "nbformat_minor": 5
}
